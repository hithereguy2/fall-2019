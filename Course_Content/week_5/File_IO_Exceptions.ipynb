{
 "cells": [
  {
   "cell_type": "code",
   "execution_count": null,
   "metadata": {},
   "outputs": [],
   "source": [
    "from IPython.core.interactiveshell import InteractiveShell\n",
    "InteractiveShell.ast_node_interactivity = \"all\""
   ]
  },
  {
   "cell_type": "markdown",
   "metadata": {
    "slideshow": {
     "slide_type": "slide"
    }
   },
   "source": [
    "![OS and file system](images/fileio.png)\n",
    "https://www.webopedia.com/TERM/O/operating_system.html"
   ]
  },
  {
   "cell_type": "markdown",
   "metadata": {
    "slideshow": {
     "slide_type": "slide"
    }
   },
   "source": [
    "#### Files store information when a program is not running"
   ]
  },
  {
   "cell_type": "markdown",
   "metadata": {
    "slideshow": {
     "slide_type": "subslide"
    }
   },
   "source": [
    "#### A file object represents data on your disk drive\n",
    "\n",
    "* Can read from it and write to it\n",
    "\n",
    "#### A filename (usually a string) states where to find the data on your disk drive\n",
    "\n",
    "* Can be used to find/create a file\n",
    "*  Examples:\n",
    "     * Linux/Mac:\"/Users/ccruz/Documents/cds-230/dog.png\"\n",
    "     * Windows:\"C:\\Users\\ccruz\\My Documents\\cds-230\\dog.png\"\n",
    "     * \"dog.png\""
   ]
  },
  {
   "cell_type": "markdown",
   "metadata": {
    "slideshow": {
     "slide_type": "slide"
    }
   },
   "source": [
    "### Two types of filenames"
   ]
  },
  {
   "cell_type": "markdown",
   "metadata": {
    "slideshow": {
     "slide_type": "subslide"
    }
   },
   "source": [
    "#### An Absolute filename gives a specific location on disk:\n",
    "    * \"/Users/ccruz/Documents/cds-230/dog.png\"\n",
    "    * \"C:\\Users\\ccruz\\My Documents\\cds-230\\dog.png\"\n",
    "    * Starts with \"/\" (Unix) or \"C:\\\" (Windows)"
   ]
  },
  {
   "cell_type": "markdown",
   "metadata": {
    "slideshow": {
     "slide_type": "subslide"
    }
   },
   "source": [
    "#### A Relative filename gives a location relative to the current working directory:\n",
    "    * \"cds-230/dog.png\"\n",
    "    * \"images\\dog.png\"\n",
    "    * \"data\\macbeth.txt\""
   ]
  },
  {
   "cell_type": "markdown",
   "metadata": {
    "slideshow": {
     "slide_type": "slide"
    }
   },
   "source": [
    "### “Current Working Directory” in Python\n",
    "\n",
    "Current Working Directory - the directory from which you ran Python\n",
    "\n",
    "To determine it from a Python program:\n",
    "```python\n",
    "import os\n",
    "print(\"The current working directory is\", os.getcwd())\n",
    "```\n",
    "\n",
    "Might print:\n",
    "'/Users/johndoe/Documents'"
   ]
  },
  {
   "cell_type": "markdown",
   "metadata": {
    "slideshow": {
     "slide_type": "slide"
    }
   },
   "source": [
    "---"
   ]
  },
  {
   "cell_type": "markdown",
   "metadata": {
    "slideshow": {
     "slide_type": "slide"
    }
   },
   "source": [
    "# File IO"
   ]
  },
  {
   "cell_type": "markdown",
   "metadata": {
    "slideshow": {
     "slide_type": "-"
    }
   },
   "source": [
    "### Reading text files"
   ]
  },
  {
   "cell_type": "code",
   "execution_count": null,
   "metadata": {},
   "outputs": [],
   "source": [
    "import os\n",
    "print(\"The current working directory is\\n\", os.getcwd())"
   ]
  },
  {
   "cell_type": "code",
   "execution_count": null,
   "metadata": {},
   "outputs": [],
   "source": [
    "os.listdir('.')"
   ]
  },
  {
   "cell_type": "code",
   "execution_count": null,
   "metadata": {},
   "outputs": [],
   "source": [
    "os.listdir('../..')"
   ]
  },
  {
   "cell_type": "code",
   "execution_count": null,
   "metadata": {},
   "outputs": [],
   "source": [
    "os.listdir('../../data')"
   ]
  },
  {
   "cell_type": "code",
   "execution_count": null,
   "metadata": {
    "slideshow": {
     "slide_type": "-"
    }
   },
   "outputs": [],
   "source": [
    "help(open)"
   ]
  },
  {
   "cell_type": "markdown",
   "metadata": {},
   "source": [
    "To open a file for reading\n",
    "```python\n",
    "myfile = open('some_file')\n",
    "```\n",
    "or equivalently\n",
    "```python\n",
    "myfile = open('some_file',  'r')\n",
    "```\n",
    "**open** takes a filename and returns a file object.\n",
    "\n",
    "This fails if the file cannot be found & opened.\n",
    "\n"
   ]
  },
  {
   "cell_type": "code",
   "execution_count": null,
   "metadata": {
    "slideshow": {
     "slide_type": "-"
    }
   },
   "outputs": [],
   "source": [
    "file_object = open('macbeth.txt', 'r') # 'r' is default"
   ]
  },
  {
   "cell_type": "markdown",
   "metadata": {},
   "source": [
    "What type of object is __file_object__?"
   ]
  },
  {
   "cell_type": "code",
   "execution_count": null,
   "metadata": {},
   "outputs": [],
   "source": [
    "print(\"file_object is of type\",(type(file_object)))"
   ]
  },
  {
   "cell_type": "code",
   "execution_count": null,
   "metadata": {
    "slideshow": {
     "slide_type": "-"
    }
   },
   "outputs": [],
   "source": [
    "# file_object.<TAB>\n",
    "dir(file_object) # attributes and methods of file objects"
   ]
  },
  {
   "cell_type": "code",
   "execution_count": null,
   "metadata": {
    "slideshow": {
     "slide_type": "-"
    }
   },
   "outputs": [],
   "source": [
    "# Examples\n",
    "print(file_object.name)\n",
    "print(file_object.mode)\n",
    "print(file_object.closed)"
   ]
  },
  {
   "cell_type": "markdown",
   "metadata": {
    "slideshow": {
     "slide_type": "-"
    }
   },
   "source": [
    "Treat __text__ (*) file as a __sequence of lines__ and each line as a sequence of strings."
   ]
  },
  {
   "cell_type": "code",
   "execution_count": null,
   "metadata": {},
   "outputs": [],
   "source": [
    "for line in file_object:\n",
    "    print(line)\n",
    "file_object.close()"
   ]
  },
  {
   "cell_type": "markdown",
   "metadata": {},
   "source": [
    "Note: Each line is terminated by a __non-printing__ character called the __newline character \"\\n\"__"
   ]
  },
  {
   "cell_type": "markdown",
   "metadata": {},
   "source": [
    "<font color='blue'>Exercise</font>:\n",
    "Read the text file macbeth.txt and count the number of lines *excluding* empty lines."
   ]
  },
  {
   "cell_type": "code",
   "execution_count": null,
   "metadata": {},
   "outputs": [],
   "source": [
    "file_object = open('../../data/macbeth.txt', 'r')\n",
    "count = 0\n",
    "for line in file_object:\n",
    "    # add code here\n",
    "\n",
    "    \n",
    "file_object.close()\n",
    "print(count)"
   ]
  },
  {
   "cell_type": "code",
   "execution_count": null,
   "metadata": {},
   "outputs": [],
   "source": [
    "!grep -c \"[^[:space:]]\" ../../data/macbeth.txt"
   ]
  },
  {
   "cell_type": "markdown",
   "metadata": {},
   "source": [
    "#### Read one line at a time"
   ]
  },
  {
   "cell_type": "code",
   "execution_count": null,
   "metadata": {
    "slideshow": {
     "slide_type": "-"
    }
   },
   "outputs": [],
   "source": [
    "my_file = open ('../../data/macbeth.txt')\n",
    "line = my_file.readline()\n",
    "print(type(line))\n",
    "print(line)\n",
    "my_file.close()"
   ]
  },
  {
   "cell_type": "code",
   "execution_count": null,
   "metadata": {},
   "outputs": [],
   "source": [
    "!head ../../data/macbeth.txt"
   ]
  },
  {
   "cell_type": "markdown",
   "metadata": {},
   "source": [
    "#### Read all the lines in the text file"
   ]
  },
  {
   "cell_type": "code",
   "execution_count": null,
   "metadata": {},
   "outputs": [],
   "source": [
    "my_file = open ('../../data/macbeth.txt')"
   ]
  },
  {
   "cell_type": "code",
   "execution_count": null,
   "metadata": {},
   "outputs": [],
   "source": [
    "lines = my_file.readlines()\n",
    "print(type(lines))\n",
    "print(lines[0:10])              "
   ]
  },
  {
   "cell_type": "code",
   "execution_count": null,
   "metadata": {},
   "outputs": [],
   "source": [
    "my_file.close()"
   ]
  },
  {
   "cell_type": "markdown",
   "metadata": {},
   "source": [
    "#### Slurping an entire file"
   ]
  },
  {
   "cell_type": "code",
   "execution_count": null,
   "metadata": {
    "slideshow": {
     "slide_type": "-"
    }
   },
   "outputs": [],
   "source": [
    "my_file = open ('../../data/macbeth.txt','r')"
   ]
  },
  {
   "cell_type": "code",
   "execution_count": null,
   "metadata": {},
   "outputs": [],
   "source": [
    "# read() reads the entire file, returns a string object\n",
    "a_string = my_file.read()           \n",
    "print(\"Contents of file are of type\",type(a_string))"
   ]
  },
  {
   "cell_type": "code",
   "execution_count": null,
   "metadata": {},
   "outputs": [],
   "source": [
    "# close file handle\n",
    "my_file.close()"
   ]
  },
  {
   "cell_type": "code",
   "execution_count": null,
   "metadata": {},
   "outputs": [],
   "source": [
    "# Now data is in memory\n",
    "print('<', a_string, '>')"
   ]
  },
  {
   "cell_type": "markdown",
   "metadata": {},
   "source": [
    "#### Read file chunks"
   ]
  },
  {
   "cell_type": "code",
   "execution_count": null,
   "metadata": {
    "slideshow": {
     "slide_type": "-"
    }
   },
   "outputs": [],
   "source": [
    "my_file = open('../../data/macbeth.txt', 'r')"
   ]
  },
  {
   "cell_type": "code",
   "execution_count": null,
   "metadata": {},
   "outputs": [],
   "source": [
    "chunk = my_file.read(32)\n",
    "print(chunk, ' * ')"
   ]
  },
  {
   "cell_type": "code",
   "execution_count": null,
   "metadata": {},
   "outputs": [],
   "source": [
    "my_file.close()"
   ]
  },
  {
   "cell_type": "markdown",
   "metadata": {},
   "source": [
    "### Automatically closing files"
   ]
  },
  {
   "cell_type": "code",
   "execution_count": null,
   "metadata": {},
   "outputs": [],
   "source": [
    "# to open a file, process its contents, and make sure to close it, you can simply do:\n",
    "\n",
    "with open ('../../data/macbeth.txt', 'r') as f:\n",
    "    data = f.read() \n",
    "    print('Is file open? ',(f.closed))\n",
    "    # file will be closed after exiting this block of code\n",
    "    \n",
    "print('Is file open? ',(f.closed))\n",
    "print((f.mode))"
   ]
  },
  {
   "cell_type": "markdown",
   "metadata": {},
   "source": [
    "### Writing text files"
   ]
  },
  {
   "cell_type": "code",
   "execution_count": null,
   "metadata": {},
   "outputs": [],
   "source": [
    "with open ('write_test.txt', 'w+') as f:\n",
    "    f.write('Test')"
   ]
  },
  {
   "cell_type": "code",
   "execution_count": null,
   "metadata": {},
   "outputs": [],
   "source": [
    "!cat write_test.txt"
   ]
  },
  {
   "cell_type": "markdown",
   "metadata": {},
   "source": [
    "<font color='blue'>Exercise</font>:\n",
    "Create a variables called my_list that contains the squared numbers from 1 to 10. Create a file object, my_file, and  write to each each value from the list. Make sure to add a newline (\"\\n\") after each element to ensure each will appear on its own line. "
   ]
  },
  {
   "cell_type": "markdown",
   "metadata": {},
   "source": [
    "```cython\n",
    "my_list = list()\n",
    "for i in range(1,11):\n",
    "    # append to my_list here:\n",
    "    \n",
    "print(my_list)\n",
    "```"
   ]
  },
  {
   "cell_type": "code",
   "execution_count": null,
   "metadata": {},
   "outputs": [],
   "source": [
    "my_list = list()\n",
    "for i in range(1,11):\n",
    "    # append to my_list here:\n",
    "\n",
    "print(my_list)\n",
    "# file io code here\n"
   ]
  },
  {
   "cell_type": "code",
   "execution_count": null,
   "metadata": {},
   "outputs": [],
   "source": [
    "!cat output.txt"
   ]
  },
  {
   "cell_type": "markdown",
   "metadata": {},
   "source": [
    "### Summary of open() file access modes"
   ]
  },
  {
   "cell_type": "markdown",
   "metadata": {},
   "source": [
    "<table style=\"width:100%\">\n",
    "  <tr>\n",
    "    <th>Mode</th>\n",
    "    <th>Description</th> \n",
    "  </tr>\n",
    "  <tr>\n",
    "    <td>r</td>\n",
    "    <td>Opens a file for reading only. Default mode.</td> \n",
    "  </tr>\n",
    "  <tr>\n",
    "    <td>rb</td>\n",
    "    <td>Opens a file for reading only in binary format.</td> \n",
    "  </tr>\n",
    "  <tr>\n",
    "    <td>r+</td>\n",
    "    <td>Opens a file for both reading and writing.</td> \n",
    "  </tr>\n",
    "  <tr>\n",
    "    <td>rb+</td>\n",
    "    <td>Opens a file for both reading and writing in binary format.</td> \n",
    "  </tr>\n",
    "  <tr>\n",
    "    <td>w</td>\n",
    "    <td>Opens a file for writing only. Overwrites file if it exists. Creates a new file if it does not exist.</td> \n",
    "  </tr>\n",
    "  <tr>\n",
    "    <td>wb</td>\n",
    "    <td>Opens a file for writing only in binary format.</td> \n",
    "  </tr>\n",
    "  <tr>\n",
    "    <td>w+</td>\n",
    "    <td>Opens a file for both writing and reading.</td> \n",
    "  </tr>\n",
    "  <tr>\n",
    "    <td>wb+</td>\n",
    "    <td>Opens a file for both writing and reading in binary format.</td> \n",
    "  </tr>\n",
    "    <td>a</td>\n",
    "    <td>Opens a file for appending. The file pointer is at the end of the file if it exists. </td> \n",
    "  </tr>\n",
    "  <tr>\n",
    "    <td>ab</td>\n",
    "    <td>Opens a file for appending in binary format.</td> \n",
    "  </tr>\n",
    "  <tr>\n",
    "    <td>a+</td>\n",
    "    <td>Opens a file for both appending and reading.</td> \n",
    "  </tr>\n",
    "  <tr>\n",
    "    <td>ab+</td>\n",
    "    <td>Opens a file for both appending and reading in binary format.</td> \n",
    "  </tr>\n",
    "</table>"
   ]
  },
  {
   "cell_type": "markdown",
   "metadata": {},
   "source": [
    "## Summary of basic file IO functions and methods"
   ]
  },
  {
   "cell_type": "markdown",
   "metadata": {},
   "source": [
    "<table style=\"width:100%\">\n",
    "  <tr>\n",
    "    <th>Methods and functions</th>\n",
    "    <th>Description</th> \n",
    "  </tr>\n",
    "  <tr>\n",
    "    <td>open()</td>\n",
    "    <td>Returns a file object and is most commonly used with two arguments: open(filename, mode)</td> \n",
    "  </tr>\n",
    "  <tr>\n",
    "    <td>file.close()</td>\n",
    "    <td>Close the file.</td> \n",
    "  </tr>\n",
    "  <tr>\n",
    "    <td>file.read([size])</td>\n",
    "    <td>Read the entire file. If size is specified then read at most size bytes.</td> \n",
    "  </tr>\n",
    "  <tr>\n",
    "    <td>file.readline([size])</td>\n",
    "    <td>Read one line from the file. If size is specified then read at most size bytes.</td> \n",
    "  </tr>\n",
    "  <tr>\n",
    "    <td>file.readlines([size])</td>\n",
    "    <td>Read all the lines from the file. If size is specified then read at most size bytes.</td> \n",
    "  </tr>\n",
    "  <tr>\n",
    "    <td>file.tell()</td>\n",
    "    <td>Returns file object's current position in the file.</td> \n",
    "  </tr>\n",
    "  <tr>\n",
    "    <td>file.seek(int)</td>\n",
    "    <td>Changes the file object's current position to the given int.</td> \n",
    "  <tr>\n",
    "    <td>file.write(string)</td>\n",
    "    <td>Writes the contents of string to the file.</td> \n",
    "  </tr>\n",
    "</table>"
   ]
  },
  {
   "cell_type": "markdown",
   "metadata": {},
   "source": [
    "### Handling delimited files"
   ]
  },
  {
   "cell_type": "code",
   "execution_count": null,
   "metadata": {},
   "outputs": [],
   "source": [
    "!cat ../../data/grades.csv"
   ]
  },
  {
   "cell_type": "code",
   "execution_count": null,
   "metadata": {},
   "outputs": [],
   "source": [
    "with open('../../data/grades.csv', 'r') as f:\n",
    "    for line in f:\n",
    "        print(line.strip().split(','))"
   ]
  },
  {
   "cell_type": "markdown",
   "metadata": {},
   "source": [
    "Each row of the input data is parsed and converted to a list of strings."
   ]
  },
  {
   "cell_type": "markdown",
   "metadata": {},
   "source": [
    "<font color='blue'>Exercise</font>:\n",
    "What was the *average* grade of exam 1? (Ans. 64.9)"
   ]
  },
  {
   "cell_type": "code",
   "execution_count": null,
   "metadata": {},
   "outputs": [],
   "source": [
    "sum_grades = 0\n",
    "num = 0\n",
    "with open('../../data/grades.csv', 'r') as f:\n",
    "    for line in f:\n",
    "    # add code here\n",
    "\n",
    "print(f'Average is {sum_grades/num:.1f}')"
   ]
  },
  {
   "cell_type": "markdown",
   "metadata": {},
   "source": [
    "---"
   ]
  },
  {
   "cell_type": "markdown",
   "metadata": {},
   "source": [
    "#### Binary files"
   ]
  },
  {
   "cell_type": "markdown",
   "metadata": {},
   "source": [
    "The differences between binary and ascii encoding won't be obvious for simple alphanumeric strings, but will become important if you're processing text that includes characters not in the ascii character set."
   ]
  },
  {
   "cell_type": "code",
   "execution_count": null,
   "metadata": {
    "scrolled": true
   },
   "outputs": [],
   "source": [
    "with open('../../data/cat.jpg', 'rb') as f:\n",
    "    data = f.readline()\n",
    "print(data)"
   ]
  },
  {
   "cell_type": "markdown",
   "metadata": {},
   "source": [
    "Hex dump is useful for debugging. In a hex dump, each byte (8-bits) is represented as a two-digit hexadecimal number."
   ]
  },
  {
   "cell_type": "code",
   "execution_count": null,
   "metadata": {},
   "outputs": [],
   "source": [
    "with open('../../data/cat.jpg', 'rb') as f:\n",
    "    data = f.read()\n",
    " \n",
    "    if data.startswith(b'\\xff\\xd8'):\n",
    "        info = 'This is a jpeg file (%d bytes long)'\n",
    "    else:\n",
    "        info = 'This is a random file (%d bytes long)'\n",
    "\n",
    "    print (info % len(data))"
   ]
  },
  {
   "cell_type": "code",
   "execution_count": null,
   "metadata": {},
   "outputs": [],
   "source": [
    "from IPython.display import Image\n",
    "kitty = Image(filename = '../../data/cat.jpg')\n",
    "kitty"
   ]
  },
  {
   "cell_type": "markdown",
   "metadata": {},
   "source": [
    "### OS dependent functions"
   ]
  },
  {
   "cell_type": "code",
   "execution_count": null,
   "metadata": {},
   "outputs": [],
   "source": [
    "import os"
   ]
  },
  {
   "cell_type": "markdown",
   "metadata": {},
   "source": [
    "Python os module provides methods that help you perform all kinds of file-processing operations, such as renaming and deleting files (as well as file IO)."
   ]
  },
  {
   "cell_type": "code",
   "execution_count": null,
   "metadata": {},
   "outputs": [],
   "source": [
    "help(os.read)\n",
    "fd = os.open('../../data/macbeth.txt', os.O_RDWR)\n",
    "ret = os.read(fd, 15)\n",
    "print('Result from os.read:'+'\\n'+20*'-'+'\\n'+ret.decode('utf-8'))\n",
    "os.close(fd)"
   ]
  },
  {
   "cell_type": "markdown",
   "metadata": {},
   "source": [
    "#### You need to test whether or not a file or directory exists."
   ]
  },
  {
   "cell_type": "code",
   "execution_count": null,
   "metadata": {},
   "outputs": [],
   "source": [
    "print(os.path.exists('/etc/passwd'))\n",
    "print(os.path.exists('/etc/spam'))"
   ]
  },
  {
   "cell_type": "code",
   "execution_count": null,
   "metadata": {},
   "outputs": [],
   "source": [
    "filename = '/etc/spam'\n",
    "if os.path.exists(filename):\n",
    "    with open(filename) as f:\n",
    "        data = f.readline()\n",
    "    print(data)\n",
    "else:\n",
    "    print (filename + ' does not exist')"
   ]
  },
  {
   "cell_type": "markdown",
   "metadata": {},
   "source": [
    "#### List files in current directory"
   ]
  },
  {
   "cell_type": "code",
   "execution_count": null,
   "metadata": {},
   "outputs": [],
   "source": [
    "listdir =  os.listdir(\".\")\n",
    "for file in listdir:\n",
    "   print(file)"
   ]
  },
  {
   "cell_type": "markdown",
   "metadata": {},
   "source": [
    "#### Dealing with directories"
   ]
  },
  {
   "cell_type": "code",
   "execution_count": null,
   "metadata": {},
   "outputs": [],
   "source": [
    "os.mkdir(\"newdir\")\n",
    "os.chdir(\"newdir\")\n",
    "print(os.getcwd())"
   ]
  },
  {
   "cell_type": "code",
   "execution_count": null,
   "metadata": {},
   "outputs": [],
   "source": [
    "os.chdir(\"..\")\n",
    "print(os.getcwd())"
   ]
  },
  {
   "cell_type": "code",
   "execution_count": null,
   "metadata": {},
   "outputs": [],
   "source": [
    "os.rmdir(\"newdir\")"
   ]
  },
  {
   "cell_type": "markdown",
   "metadata": {},
   "source": [
    "## Optional"
   ]
  },
  {
   "cell_type": "markdown",
   "metadata": {},
   "source": [
    "#### Accessing environment"
   ]
  },
  {
   "cell_type": "code",
   "execution_count": null,
   "metadata": {},
   "outputs": [],
   "source": [
    "print(os.environ['HOME'])\n",
    "print('HOME' in os.environ)\n",
    "\n",
    "# using get will return `None` if a key is not present rather than raise a `KeyError`\n",
    "print(os.environ.get('KEY_THAT_MIGHT_EXIST'))\n",
    "\n",
    "# os.getenv is equivalent, and can also give a default value instead of `None`\n",
    "print(os.getenv('KEY_THAT_MIGHT_EXIST', 'SOME_KEY'))\n",
    "\n",
    "# Setting variable\n",
    "os.environ['PythonTraining'] = 'is fun'\n",
    "print(os.environ.get('PythonTraining'))"
   ]
  },
  {
   "cell_type": "markdown",
   "metadata": {},
   "source": [
    "#### Other utilities"
   ]
  },
  {
   "cell_type": "code",
   "execution_count": null,
   "metadata": {},
   "outputs": [],
   "source": [
    "print(os.path.isfile('/etc/passwd'))\n",
    "print(os.path.isdir('/etc/passwd'))\n",
    "print(os.path.islink('python'))\n",
    "print(os.path.realpath('python'))\n",
    "print(os.path.getsize('/etc/passwd'))"
   ]
  },
  {
   "cell_type": "code",
   "execution_count": null,
   "metadata": {},
   "outputs": [],
   "source": [
    "import shutil"
   ]
  },
  {
   "cell_type": "markdown",
   "metadata": {},
   "source": [
    "The shutil module offers a number of high-level operations on <b>files and collections of files</b>. In particular, functions are provided which support file copying and removal. \n",
    "For operations on individual files, see also the os module."
   ]
  },
  {
   "cell_type": "code",
   "execution_count": null,
   "metadata": {
    "scrolled": true
   },
   "outputs": [],
   "source": [
    "help (shutil.copy)\n",
    "help (shutil.move)"
   ]
  },
  {
   "cell_type": "markdown",
   "metadata": {},
   "source": [
    "---"
   ]
  },
  {
   "cell_type": "markdown",
   "metadata": {},
   "source": [
    "# Exceptions and exception handling"
   ]
  },
  {
   "cell_type": "markdown",
   "metadata": {},
   "source": [
    "### Syntax vs. run-time errors\n",
    "A <b>python</b> program with a syntax error will execute no steps at all, but a program with a run-time error will execute the steps that happened before the error occured."
   ]
  },
  {
   "cell_type": "code",
   "execution_count": null,
   "metadata": {},
   "outputs": [],
   "source": [
    "print(\"programming is fun, debugging programs is not\")\n",
    "print('This does not make sense: ' 1/0)"
   ]
  },
  {
   "cell_type": "code",
   "execution_count": null,
   "metadata": {},
   "outputs": [],
   "source": [
    "print(\"programming is fun, debugging programs is not\")\n",
    "print('This does not make sense: ',1/0)"
   ]
  },
  {
   "cell_type": "markdown",
   "metadata": {},
   "source": [
    "#### Execution errors generated in Python are called <font color='blue'>exceptions</font>. "
   ]
  },
  {
   "cell_type": "markdown",
   "metadata": {},
   "source": [
    "## Built-in exceptions\n",
    "\n",
    "<table style=\"width:100%\">\n",
    "  <tr>\n",
    "    <th>Exception name</th>\n",
    "    <th>Description</th> \n",
    "  </tr>\n",
    "  <tr>\n",
    "    <td>IOError</td>\n",
    "    <td>Raised when an IO operation fails.</td> \n",
    "  </tr>\n",
    "  <tr>\n",
    "    <td>KeyError</td>\n",
    "    <td>Raised when a mapping (dictionary) key is not found in the set of existing keys.</td> \n",
    "  </tr>\n",
    "  <tr>\n",
    "    <td>NameError</td>\n",
    "    <td>Raised when an identifier is not found in the local or global namespace.</td> \n",
    "  </tr>\n",
    "  <tr>\n",
    "    <td>OSError</td>\n",
    "    <td>Raised when a function returns a system-related error.</td> \n",
    "  </tr>\n",
    "  <tr>\n",
    "    <td>ValueError</td>\n",
    "    <td>Raised when a built-in operation or function receives an argument that has the right type but an inappropriate value.</td> \n",
    "  </tr>\n",
    "  <tr>\n",
    "    <td>ZeroDivisionError</td>\n",
    "    <td>Raised when the second argument of a division or modulo operation is zero.</td> \n",
    "  </tr>\n",
    "</table>\n",
    "\n",
    "For a full list see https://docs.python.org/3/library/exceptions.html"
   ]
  },
  {
   "cell_type": "markdown",
   "metadata": {},
   "source": [
    "### raise statement"
   ]
  },
  {
   "cell_type": "markdown",
   "metadata": {},
   "source": [
    "One can generate exceptions using the <font color='blue'>raise</font> statement."
   ]
  },
  {
   "cell_type": "markdown",
   "metadata": {},
   "source": [
    "A typical use of exceptions is to abort functions when some error condition occurs, for example:"
   ]
  },
  {
   "cell_type": "code",
   "execution_count": null,
   "metadata": {},
   "outputs": [],
   "source": [
    "x = 10\n",
    "if x > 5:\n",
    "    raise Exception('x should not exceed 5.')"
   ]
  },
  {
   "cell_type": "markdown",
   "metadata": {},
   "source": [
    "### assert statement"
   ]
  },
  {
   "cell_type": "code",
   "execution_count": null,
   "metadata": {},
   "outputs": [],
   "source": [
    "x = 10\n",
    "assert(x < 5), 'x should not exceed 5.'"
   ]
  },
  {
   "cell_type": "markdown",
   "metadata": {},
   "source": [
    "__When an exception is raised, and is not handled by the code, it propagates back to the calling code (and its calling code) until it's handled.__"
   ]
  },
  {
   "cell_type": "markdown",
   "metadata": {},
   "source": [
    "### How do we \"handle\" exceptions\n",
    "\n",
    "#### We use the <font color='blue'>try...except</font> block. \n"
   ]
  },
  {
   "cell_type": "code",
   "execution_count": null,
   "metadata": {},
   "outputs": [],
   "source": [
    "try:                                                      # required keyword\n",
    "    print('< Try: Block of code that harbors the risk of an exception >') # exception generated in this block\n",
    "except:                                                   # required keyword  !!! avoid bare except clauses !!!\n",
    "    print('*** There was a runtime error ***')            # exception is caught here\n",
    "    \n",
    "print('< We are outside the try statement >')"
   ]
  },
  {
   "cell_type": "code",
   "execution_count": null,
   "metadata": {},
   "outputs": [],
   "source": [
    "(x,y) = (5,0)\n",
    "try:\n",
    "    z = x/y\n",
    "except ZeroDivisionError:\n",
    "    print(\"divide by zero\")"
   ]
  },
  {
   "cell_type": "markdown",
   "metadata": {},
   "source": [
    "#### General <font color='blue'>try...except</font> block"
   ]
  },
  {
   "cell_type": "code",
   "execution_count": null,
   "metadata": {},
   "outputs": [],
   "source": [
    "try:                                                      # required keyword\n",
    "    print('< Try: Block of code that harbors the risk of an exception >') # exception generated in this block\n",
    "except:                                                   # required keyword \n",
    "    print('*** There was a runtime error ***')            # exception is caught here\n",
    "else:                                                     # optional keyword\n",
    "    print('< Else: There was no exception >')\n",
    "finally:                                                  # optional keyword - like a clean-up step\n",
    "    print('< Finally: Exception handling is finished - always executed >')\n",
    "    \n",
    "print('< We are outside the try statement >')"
   ]
  },
  {
   "cell_type": "markdown",
   "metadata": {},
   "source": [
    "### Exception Handling and File Processing"
   ]
  },
  {
   "cell_type": "code",
   "execution_count": null,
   "metadata": {},
   "outputs": [],
   "source": [
    "with open ('nonExistentFile.txt', 'r') as f:\n",
    "   data = my_file.readlines()"
   ]
  },
  {
   "cell_type": "code",
   "execution_count": null,
   "metadata": {},
   "outputs": [],
   "source": [
    "try:\n",
    "    with open ('nonExistentFile.txt', 'r') as f:\n",
    "        data = f.readline()\n",
    "except IOError:\n",
    "    print('File does not exist')\n",
    "else:\n",
    "    print(data)"
   ]
  },
  {
   "cell_type": "markdown",
   "metadata": {},
   "source": [
    "#### <font color='red'>Summary</font>: \n",
    "\n",
    "Exception handling is a useful feature of Python - more art than science. \n",
    "\n",
    "Raise exceptions whenever something unexpected occurs, and catch them only where you can do something about them."
   ]
  },
  {
   "cell_type": "markdown",
   "metadata": {},
   "source": [
    "<font color='blue'>Exercise</font>:\n",
    "\n",
    "Add a try-except block to the follwing code, i.e. instead of performing checks (using 'if') before we do something, we just do it – and if an error does occur we handle it."
   ]
  },
  {
   "cell_type": "code",
   "execution_count": null,
   "metadata": {},
   "outputs": [],
   "source": [
    "n = None\n",
    "while n is None:\n",
    "    s = input(\"Please enter an integer: \")\n",
    "    if s.isdigit():\n",
    "        n = int(s)\n",
    "    else:\n",
    "        print(\"%s is not an integer.\" % s)"
   ]
  }
 ],
 "metadata": {
  "anaconda-cloud": {},
  "celltoolbar": "Raw Cell Format",
  "kernelspec": {
   "display_name": "Python 3",
   "language": "python",
   "name": "python3"
  },
  "language_info": {
   "codemirror_mode": {
    "name": "ipython",
    "version": 3
   },
   "file_extension": ".py",
   "mimetype": "text/x-python",
   "name": "python",
   "nbconvert_exporter": "python",
   "pygments_lexer": "ipython3",
   "version": "3.7.3"
  }
 },
 "nbformat": 4,
 "nbformat_minor": 4
}
