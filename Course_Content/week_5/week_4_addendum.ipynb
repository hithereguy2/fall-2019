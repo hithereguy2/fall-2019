{
 "cells": [
  {
   "cell_type": "markdown",
   "metadata": {},
   "source": [
    "# Higher-order functions"
   ]
  },
  {
   "cell_type": "markdown",
   "metadata": {},
   "source": [
    "#### <font color='red'>arguments can take on any type, even functions</font>"
   ]
  },
  {
   "cell_type": "code",
   "execution_count": null,
   "metadata": {},
   "outputs": [],
   "source": [
    "def f_a():\n",
    "    print('in a')\n",
    "    \n",
    "def f_b(p):\n",
    "    print('in b')\n",
    "    \n",
    "f_b(f_a())  # f_a is an argument to f_b"
   ]
  },
  {
   "cell_type": "markdown",
   "metadata": {},
   "source": [
    "#### Using functions as arguments can be convenient, for example:"
   ]
  },
  {
   "cell_type": "code",
   "execution_count": null,
   "metadata": {},
   "outputs": [],
   "source": [
    "def apply_to_each(L, f):\n",
    "    \"\"\"Assumes L is a list, f a function\n",
    "    Mutates L by replacing each element, e, of L by f(e)\n",
    "    \"\"\" \n",
    "    for i in range(len(L)):\n",
    "        L[i] = f(L[i])"
   ]
  },
  {
   "cell_type": "code",
   "execution_count": null,
   "metadata": {},
   "outputs": [],
   "source": [
    "L = [1, -2, 3.33]\n",
    "print('L =', L)\n",
    "print('Apply abs to each element of L.') \n",
    "apply_to_each(L, abs)\n",
    "print('L =', L)\n",
    "print('Apply int to each element of', L) \n",
    "apply_to_each(L, int)\n",
    "print('L =', L)"
   ]
  },
  {
   "cell_type": "markdown",
   "metadata": {},
   "source": [
    "#### The function *apply_to_each* is called **higher-order** because it has an argument that is itself a function."
   ]
  },
  {
   "cell_type": "raw",
   "metadata": {},
   "source": [
    "HW#2 PART (D)\n",
    "\n",
    "# Do Binary Search for floor(sqrt(x)) \n",
    "start = 1\n",
    "end = x\n",
    "ans = 0\n",
    "while (start <= end) : \n",
    "        \n",
    "    mid = (start + end) // 2\n",
    "\n",
    "    # If x is a perfect square \n",
    "    if (mid*mid == x) : \n",
    "        ans = mid\n",
    "        break \n",
    "\n",
    "    # Since we need floor, we update  \n",
    "    # answer when mid*mid is smaller \n",
    "    # than x, and move closer to sqrt(x) \n",
    "    if (mid * mid < x) : \n",
    "        start = mid + 1\n",
    "        ans = mid \n",
    "\n",
    "    else : \n",
    "        # If mid*mid is greater than x \n",
    "        end = mid-1\n",
    "        \n",
    "\n",
    "input_list = [12, 100, 234, 123123123, 28397236511599]"
   ]
  },
  {
   "cell_type": "markdown",
   "metadata": {},
   "source": [
    "---\n",
    "---"
   ]
  },
  {
   "cell_type": "code",
   "execution_count": null,
   "metadata": {},
   "outputs": [],
   "source": [
    "import math\n",
    "print(math.factorial(25))"
   ]
  },
  {
   "cell_type": "code",
   "execution_count": null,
   "metadata": {},
   "outputs": [],
   "source": [
    "def my_factorial(n):\n",
    "    result = 1\n",
    "    while n > 1:\n",
    "        result = result*n\n",
    "        n = n-1\n",
    "    return result"
   ]
  },
  {
   "cell_type": "markdown",
   "metadata": {},
   "source": [
    "## Timing\n",
    "\n",
    "Jupyter notebooks have a nice built-in method to time how long a line of code takes to execute. \n",
    "\n",
    "In a Jupyter notebook, when a line starts with %timeit followed by code, the **kernel** runs the line of code multiple times and outputs an average of the time spent to execute the line of code."
   ]
  },
  {
   "cell_type": "code",
   "execution_count": null,
   "metadata": {},
   "outputs": [],
   "source": [
    "%timeit math.factorial(25)"
   ]
  },
  {
   "cell_type": "code",
   "execution_count": null,
   "metadata": {},
   "outputs": [],
   "source": [
    "%timeit my_factorial(25)"
   ]
  }
 ],
 "metadata": {
  "kernelspec": {
   "display_name": "Python 3",
   "language": "python",
   "name": "python3"
  },
  "language_info": {
   "codemirror_mode": {
    "name": "ipython",
    "version": 3
   },
   "file_extension": ".py",
   "mimetype": "text/x-python",
   "name": "python",
   "nbconvert_exporter": "python",
   "pygments_lexer": "ipython3",
   "version": "3.7.3"
  }
 },
 "nbformat": 4,
 "nbformat_minor": 4
}
